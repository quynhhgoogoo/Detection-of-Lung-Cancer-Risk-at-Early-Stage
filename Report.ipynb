{
 "cells": [
  {
   "cell_type": "markdown",
   "metadata": {},
   "source": [
    "# Comparision of Logistic Regression and K-Nearest Neighbour in Lung Cancer Risk Detection\n",
    "\n",
    "\n",
    "## Introduction\n",
    "\n",
    "Lung Cancer is the third most common cancer in the world and is the leading cause of death cancer. If lung cancer is found at an earlier stage before it is spread and developed, the treatment will have more chance to be successful. However, lung cancer do not usually appear until the disease is at an advanced stage. Even when lung cancer does cause symtomps, people usually ignore it or not treat it seriously. Thus, it is beneficial for people to know if they belong to the group which having high risk of lung cancer and have pre-screening plan to detect it.\n",
    "\n",
    "This project aim is to help people check if they are at the high risk of having lung cancer and give recommendation for them to check up. Thus, the application domain is medical diagnosis\n",
    "\n",
    "\n",
    "## Overview\n",
    "The report contains five main sections and each section will expand on different problems which are Data Source, Problem Formulation, Methods, Result Analysis and Conclusion. First section Data Source will briefly describe the dataset used inside this project, such as how it is taken and some characteristics of it. In Problem Formulation, we explain the data points, features and labels for our ML application. Third section \"Methods\" is divided into two subsections which are K Nearest Neighbour andLogistic Regression. In each method, the report explain the design choice for each model and its corresponding loss functions. The design choice for features selection, data preprocessing and model validation are also mentioned in this section. Section 4 will compare and discuss the training and validation errors obtained for both considered methods. Last section expresses the finding of the project and what features could be imporved further in the future\n",
    "\n",
    "\n",
    "## Data Source\n",
    "\n",
    "The dataset was published in DataWorld, where those data is collected from the website online lung cancer prediction system and get feedback from the user. This site has implemented during period of August 2013 when the people who visited this site.\n",
    "\n",
    "The total number of data points inside given dataset is 309. There are no missing labels or features in the dataset. The dataset includes a total of 16 columns where each column represents user’s information such as gender, age, smoking history, alcoholic assumption, previous chronic diseases and other corresponding symptoms (coughing, yellow skin, chest pain, etc). \n",
    "\n",
    "\n",
    "## Problem Formulation\n",
    "- Data Points: People who attend the survey\n",
    "- Features: Users information such as gender, age, chronic disease history, mental health related issues, allergy and their personal behaviors (smoking history, alcoholic assumption)\n",
    "-  Label: binary value represents if it is high chance of getting lung cancer(Yes) or if it is not a high chance of having lung cancer (No)"
   ]
  },
  {
   "cell_type": "code",
   "execution_count": 3,
   "metadata": {},
   "outputs": [],
   "source": [
    "import numpy as np\n",
    "import pandas as pd\n",
    "import matplotlib.pyplot as plt\n",
    "import seaborn as sns"
   ]
  },
  {
   "cell_type": "markdown",
   "metadata": {},
   "source": [
    "### Step 1: Data Analysis\n",
    "Extract Information from CSV data and do some data preprocessing step"
   ]
  },
  {
   "cell_type": "code",
   "execution_count": 4,
   "metadata": {},
   "outputs": [
    {
     "data": {
      "text/html": [
       "<div>\n",
       "<style scoped>\n",
       "    .dataframe tbody tr th:only-of-type {\n",
       "        vertical-align: middle;\n",
       "    }\n",
       "\n",
       "    .dataframe tbody tr th {\n",
       "        vertical-align: top;\n",
       "    }\n",
       "\n",
       "    .dataframe thead th {\n",
       "        text-align: right;\n",
       "    }\n",
       "</style>\n",
       "<table border=\"1\" class=\"dataframe\">\n",
       "  <thead>\n",
       "    <tr style=\"text-align: right;\">\n",
       "      <th></th>\n",
       "      <th>GENDER</th>\n",
       "      <th>AGE</th>\n",
       "      <th>SMOKING</th>\n",
       "      <th>YELLOW_FINGERS</th>\n",
       "      <th>ANXIETY</th>\n",
       "      <th>PEER_PRESSURE</th>\n",
       "      <th>CHRONIC DISEASE</th>\n",
       "      <th>FATIGUE</th>\n",
       "      <th>ALLERGY</th>\n",
       "      <th>WHEEZING</th>\n",
       "      <th>ALCOHOL CONSUMING</th>\n",
       "      <th>COUGHING</th>\n",
       "      <th>SHORTNESS OF BREATH</th>\n",
       "      <th>SWALLOWING DIFFICULTY</th>\n",
       "      <th>CHEST PAIN</th>\n",
       "      <th>LUNG_CANCER</th>\n",
       "    </tr>\n",
       "  </thead>\n",
       "  <tbody>\n",
       "    <tr>\n",
       "      <th>0</th>\n",
       "      <td>M</td>\n",
       "      <td>69</td>\n",
       "      <td>1</td>\n",
       "      <td>2</td>\n",
       "      <td>2</td>\n",
       "      <td>1</td>\n",
       "      <td>1</td>\n",
       "      <td>2</td>\n",
       "      <td>1</td>\n",
       "      <td>2</td>\n",
       "      <td>2</td>\n",
       "      <td>2</td>\n",
       "      <td>2</td>\n",
       "      <td>2</td>\n",
       "      <td>2</td>\n",
       "      <td>YES</td>\n",
       "    </tr>\n",
       "    <tr>\n",
       "      <th>1</th>\n",
       "      <td>M</td>\n",
       "      <td>74</td>\n",
       "      <td>2</td>\n",
       "      <td>1</td>\n",
       "      <td>1</td>\n",
       "      <td>1</td>\n",
       "      <td>2</td>\n",
       "      <td>2</td>\n",
       "      <td>2</td>\n",
       "      <td>1</td>\n",
       "      <td>1</td>\n",
       "      <td>1</td>\n",
       "      <td>2</td>\n",
       "      <td>2</td>\n",
       "      <td>2</td>\n",
       "      <td>YES</td>\n",
       "    </tr>\n",
       "    <tr>\n",
       "      <th>2</th>\n",
       "      <td>F</td>\n",
       "      <td>59</td>\n",
       "      <td>1</td>\n",
       "      <td>1</td>\n",
       "      <td>1</td>\n",
       "      <td>2</td>\n",
       "      <td>1</td>\n",
       "      <td>2</td>\n",
       "      <td>1</td>\n",
       "      <td>2</td>\n",
       "      <td>1</td>\n",
       "      <td>2</td>\n",
       "      <td>2</td>\n",
       "      <td>1</td>\n",
       "      <td>2</td>\n",
       "      <td>NO</td>\n",
       "    </tr>\n",
       "    <tr>\n",
       "      <th>3</th>\n",
       "      <td>M</td>\n",
       "      <td>63</td>\n",
       "      <td>2</td>\n",
       "      <td>2</td>\n",
       "      <td>2</td>\n",
       "      <td>1</td>\n",
       "      <td>1</td>\n",
       "      <td>1</td>\n",
       "      <td>1</td>\n",
       "      <td>1</td>\n",
       "      <td>2</td>\n",
       "      <td>1</td>\n",
       "      <td>1</td>\n",
       "      <td>2</td>\n",
       "      <td>2</td>\n",
       "      <td>NO</td>\n",
       "    </tr>\n",
       "    <tr>\n",
       "      <th>4</th>\n",
       "      <td>F</td>\n",
       "      <td>63</td>\n",
       "      <td>1</td>\n",
       "      <td>2</td>\n",
       "      <td>1</td>\n",
       "      <td>1</td>\n",
       "      <td>1</td>\n",
       "      <td>1</td>\n",
       "      <td>1</td>\n",
       "      <td>2</td>\n",
       "      <td>1</td>\n",
       "      <td>2</td>\n",
       "      <td>2</td>\n",
       "      <td>1</td>\n",
       "      <td>1</td>\n",
       "      <td>NO</td>\n",
       "    </tr>\n",
       "  </tbody>\n",
       "</table>\n",
       "</div>"
      ],
      "text/plain": [
       "  GENDER  AGE  SMOKING  YELLOW_FINGERS  ANXIETY  PEER_PRESSURE  \\\n",
       "0      M   69        1               2        2              1   \n",
       "1      M   74        2               1        1              1   \n",
       "2      F   59        1               1        1              2   \n",
       "3      M   63        2               2        2              1   \n",
       "4      F   63        1               2        1              1   \n",
       "\n",
       "   CHRONIC DISEASE  FATIGUE   ALLERGY   WHEEZING  ALCOHOL CONSUMING  COUGHING  \\\n",
       "0                1         2         1         2                  2         2   \n",
       "1                2         2         2         1                  1         1   \n",
       "2                1         2         1         2                  1         2   \n",
       "3                1         1         1         1                  2         1   \n",
       "4                1         1         1         2                  1         2   \n",
       "\n",
       "   SHORTNESS OF BREATH  SWALLOWING DIFFICULTY  CHEST PAIN LUNG_CANCER  \n",
       "0                    2                      2           2         YES  \n",
       "1                    2                      2           2         YES  \n",
       "2                    2                      1           2          NO  \n",
       "3                    1                      2           2          NO  \n",
       "4                    2                      1           1          NO  "
      ]
     },
     "execution_count": 4,
     "metadata": {},
     "output_type": "execute_result"
    }
   ],
   "source": [
    "# Load data into data frame\n",
    "df = pd.read_csv(\"lung_cancer_info.csv\")\n",
    "df.head()"
   ]
  },
  {
   "cell_type": "code",
   "execution_count": 5,
   "metadata": {},
   "outputs": [
    {
     "data": {
      "text/plain": [
       "Index(['GENDER', 'AGE', 'SMOKING', 'YELLOW_FINGERS', 'ANXIETY',\n",
       "       'PEER_PRESSURE', 'CHRONIC DISEASE', 'FATIGUE ', 'ALLERGY ', 'WHEEZING',\n",
       "       'ALCOHOL CONSUMING', 'COUGHING', 'SHORTNESS OF BREATH',\n",
       "       'SWALLOWING DIFFICULTY', 'CHEST PAIN', 'LUNG_CANCER'],\n",
       "      dtype='object')"
      ]
     },
     "execution_count": 5,
     "metadata": {},
     "output_type": "execute_result"
    }
   ],
   "source": [
    "# Get the columns of each data point\n",
    "df.columns"
   ]
  },
  {
   "cell_type": "markdown",
   "metadata": {},
   "source": [
    "##### Process of Features Selection\n",
    "Since the goal of this project is to help people find out if they belong to high risk group of lung cancer, we will drop out the symbolic symtomps (which only shows up when they actually get the disease)"
   ]
  },
  {
   "cell_type": "code",
   "execution_count": 6,
   "metadata": {},
   "outputs": [
    {
     "data": {
      "text/html": [
       "<div>\n",
       "<style scoped>\n",
       "    .dataframe tbody tr th:only-of-type {\n",
       "        vertical-align: middle;\n",
       "    }\n",
       "\n",
       "    .dataframe tbody tr th {\n",
       "        vertical-align: top;\n",
       "    }\n",
       "\n",
       "    .dataframe thead th {\n",
       "        text-align: right;\n",
       "    }\n",
       "</style>\n",
       "<table border=\"1\" class=\"dataframe\">\n",
       "  <thead>\n",
       "    <tr style=\"text-align: right;\">\n",
       "      <th></th>\n",
       "      <th>GENDER</th>\n",
       "      <th>AGE</th>\n",
       "      <th>SMOKING</th>\n",
       "      <th>ANXIETY</th>\n",
       "      <th>PEER_PRESSURE</th>\n",
       "      <th>CHRONIC DISEASE</th>\n",
       "      <th>FATIGUE</th>\n",
       "      <th>ALLERGY</th>\n",
       "      <th>WHEEZING</th>\n",
       "      <th>ALCOHOL CONSUMING</th>\n",
       "      <th>LUNG_CANCER</th>\n",
       "    </tr>\n",
       "  </thead>\n",
       "  <tbody>\n",
       "    <tr>\n",
       "      <th>0</th>\n",
       "      <td>M</td>\n",
       "      <td>69</td>\n",
       "      <td>1</td>\n",
       "      <td>2</td>\n",
       "      <td>1</td>\n",
       "      <td>1</td>\n",
       "      <td>2</td>\n",
       "      <td>1</td>\n",
       "      <td>2</td>\n",
       "      <td>2</td>\n",
       "      <td>YES</td>\n",
       "    </tr>\n",
       "    <tr>\n",
       "      <th>1</th>\n",
       "      <td>M</td>\n",
       "      <td>74</td>\n",
       "      <td>2</td>\n",
       "      <td>1</td>\n",
       "      <td>1</td>\n",
       "      <td>2</td>\n",
       "      <td>2</td>\n",
       "      <td>2</td>\n",
       "      <td>1</td>\n",
       "      <td>1</td>\n",
       "      <td>YES</td>\n",
       "    </tr>\n",
       "    <tr>\n",
       "      <th>2</th>\n",
       "      <td>F</td>\n",
       "      <td>59</td>\n",
       "      <td>1</td>\n",
       "      <td>1</td>\n",
       "      <td>2</td>\n",
       "      <td>1</td>\n",
       "      <td>2</td>\n",
       "      <td>1</td>\n",
       "      <td>2</td>\n",
       "      <td>1</td>\n",
       "      <td>NO</td>\n",
       "    </tr>\n",
       "    <tr>\n",
       "      <th>3</th>\n",
       "      <td>M</td>\n",
       "      <td>63</td>\n",
       "      <td>2</td>\n",
       "      <td>2</td>\n",
       "      <td>1</td>\n",
       "      <td>1</td>\n",
       "      <td>1</td>\n",
       "      <td>1</td>\n",
       "      <td>1</td>\n",
       "      <td>2</td>\n",
       "      <td>NO</td>\n",
       "    </tr>\n",
       "    <tr>\n",
       "      <th>4</th>\n",
       "      <td>F</td>\n",
       "      <td>63</td>\n",
       "      <td>1</td>\n",
       "      <td>1</td>\n",
       "      <td>1</td>\n",
       "      <td>1</td>\n",
       "      <td>1</td>\n",
       "      <td>1</td>\n",
       "      <td>2</td>\n",
       "      <td>1</td>\n",
       "      <td>NO</td>\n",
       "    </tr>\n",
       "  </tbody>\n",
       "</table>\n",
       "</div>"
      ],
      "text/plain": [
       "  GENDER  AGE  SMOKING  ANXIETY  PEER_PRESSURE  CHRONIC DISEASE  FATIGUE   \\\n",
       "0      M   69        1        2              1                1         2   \n",
       "1      M   74        2        1              1                2         2   \n",
       "2      F   59        1        1              2                1         2   \n",
       "3      M   63        2        2              1                1         1   \n",
       "4      F   63        1        1              1                1         1   \n",
       "\n",
       "   ALLERGY   WHEEZING  ALCOHOL CONSUMING LUNG_CANCER  \n",
       "0         1         2                  2         YES  \n",
       "1         2         1                  1         YES  \n",
       "2         1         2                  1          NO  \n",
       "3         1         1                  2          NO  \n",
       "4         1         2                  1          NO  "
      ]
     },
     "execution_count": 6,
     "metadata": {},
     "output_type": "execute_result"
    }
   ],
   "source": [
    "# Drop unecessary columns\n",
    "df = df.drop(columns = ['YELLOW_FINGERS', 'COUGHING', 'SHORTNESS OF BREATH', 'SWALLOWING DIFFICULTY', 'CHEST PAIN'])\n",
    "df.head()"
   ]
  },
  {
   "cell_type": "code",
   "execution_count": 7,
   "metadata": {},
   "outputs": [
    {
     "data": {
      "text/plain": [
       "Index(['GENDER', 'AGE', 'SMOKING', 'ANXIETY', 'PEER_PRESSURE',\n",
       "       'CHRONIC DISEASE', 'FATIGUE ', 'ALLERGY ', 'WHEEZING',\n",
       "       'ALCOHOL CONSUMING', 'LUNG_CANCER'],\n",
       "      dtype='object')"
      ]
     },
     "execution_count": 7,
     "metadata": {},
     "output_type": "execute_result"
    }
   ],
   "source": [
    "# Get the features for each data point\n",
    "df.columns"
   ]
  },
  {
   "cell_type": "code",
   "execution_count": 8,
   "metadata": {},
   "outputs": [
    {
     "name": "stdout",
     "output_type": "stream",
     "text": [
      "Data Shape is:  (309, 11)\n",
      "<class 'pandas.core.frame.DataFrame'>\n",
      "RangeIndex: 309 entries, 0 to 308\n",
      "Data columns (total 11 columns):\n",
      " #   Column             Non-Null Count  Dtype \n",
      "---  ------             --------------  ----- \n",
      " 0   GENDER             309 non-null    object\n",
      " 1   AGE                309 non-null    int64 \n",
      " 2   SMOKING            309 non-null    int64 \n",
      " 3   ANXIETY            309 non-null    int64 \n",
      " 4   PEER_PRESSURE      309 non-null    int64 \n",
      " 5   CHRONIC DISEASE    309 non-null    int64 \n",
      " 6   FATIGUE            309 non-null    int64 \n",
      " 7   ALLERGY            309 non-null    int64 \n",
      " 8   WHEEZING           309 non-null    int64 \n",
      " 9   ALCOHOL CONSUMING  309 non-null    int64 \n",
      " 10  LUNG_CANCER        309 non-null    object\n",
      "dtypes: int64(9), object(2)\n",
      "memory usage: 26.7+ KB\n",
      "Data Information is  None\n"
     ]
    }
   ],
   "source": [
    "# Explore data's properties\n",
    "print(\"Data Shape is: \", df.shape)\n",
    "print(\"Data Information is \", df.info())"
   ]
  },
  {
   "cell_type": "code",
   "execution_count": 9,
   "metadata": {},
   "outputs": [
    {
     "data": {
      "text/plain": [
       "GENDER               0\n",
       "AGE                  0\n",
       "SMOKING              0\n",
       "ANXIETY              0\n",
       "PEER_PRESSURE        0\n",
       "CHRONIC DISEASE      0\n",
       "FATIGUE              0\n",
       "ALLERGY              0\n",
       "WHEEZING             0\n",
       "ALCOHOL CONSUMING    0\n",
       "LUNG_CANCER          0\n",
       "dtype: int64"
      ]
     },
     "execution_count": 9,
     "metadata": {},
     "output_type": "execute_result"
    }
   ],
   "source": [
    "# Clean data\n",
    "df.isnull().sum()"
   ]
  },
  {
   "cell_type": "code",
   "execution_count": 10,
   "metadata": {},
   "outputs": [
    {
     "data": {
      "text/html": [
       "<div>\n",
       "<style scoped>\n",
       "    .dataframe tbody tr th:only-of-type {\n",
       "        vertical-align: middle;\n",
       "    }\n",
       "\n",
       "    .dataframe tbody tr th {\n",
       "        vertical-align: top;\n",
       "    }\n",
       "\n",
       "    .dataframe thead th {\n",
       "        text-align: right;\n",
       "    }\n",
       "</style>\n",
       "<table border=\"1\" class=\"dataframe\">\n",
       "  <thead>\n",
       "    <tr style=\"text-align: right;\">\n",
       "      <th></th>\n",
       "      <th>GENDER</th>\n",
       "      <th>AGE</th>\n",
       "      <th>SMOKING</th>\n",
       "      <th>ANXIETY</th>\n",
       "      <th>PEER_PRESSURE</th>\n",
       "      <th>CHRONIC DISEASE</th>\n",
       "      <th>FATIGUE</th>\n",
       "      <th>ALLERGY</th>\n",
       "      <th>WHEEZING</th>\n",
       "      <th>ALCOHOL CONSUMING</th>\n",
       "      <th>LUNG_CANCER</th>\n",
       "    </tr>\n",
       "  </thead>\n",
       "  <tbody>\n",
       "    <tr>\n",
       "      <th>0</th>\n",
       "      <td>1</td>\n",
       "      <td>69</td>\n",
       "      <td>1</td>\n",
       "      <td>2</td>\n",
       "      <td>1</td>\n",
       "      <td>1</td>\n",
       "      <td>2</td>\n",
       "      <td>1</td>\n",
       "      <td>2</td>\n",
       "      <td>2</td>\n",
       "      <td>1</td>\n",
       "    </tr>\n",
       "    <tr>\n",
       "      <th>1</th>\n",
       "      <td>1</td>\n",
       "      <td>74</td>\n",
       "      <td>2</td>\n",
       "      <td>1</td>\n",
       "      <td>1</td>\n",
       "      <td>2</td>\n",
       "      <td>2</td>\n",
       "      <td>2</td>\n",
       "      <td>1</td>\n",
       "      <td>1</td>\n",
       "      <td>1</td>\n",
       "    </tr>\n",
       "    <tr>\n",
       "      <th>2</th>\n",
       "      <td>0</td>\n",
       "      <td>59</td>\n",
       "      <td>1</td>\n",
       "      <td>1</td>\n",
       "      <td>2</td>\n",
       "      <td>1</td>\n",
       "      <td>2</td>\n",
       "      <td>1</td>\n",
       "      <td>2</td>\n",
       "      <td>1</td>\n",
       "      <td>0</td>\n",
       "    </tr>\n",
       "    <tr>\n",
       "      <th>3</th>\n",
       "      <td>1</td>\n",
       "      <td>63</td>\n",
       "      <td>2</td>\n",
       "      <td>2</td>\n",
       "      <td>1</td>\n",
       "      <td>1</td>\n",
       "      <td>1</td>\n",
       "      <td>1</td>\n",
       "      <td>1</td>\n",
       "      <td>2</td>\n",
       "      <td>0</td>\n",
       "    </tr>\n",
       "    <tr>\n",
       "      <th>4</th>\n",
       "      <td>0</td>\n",
       "      <td>63</td>\n",
       "      <td>1</td>\n",
       "      <td>1</td>\n",
       "      <td>1</td>\n",
       "      <td>1</td>\n",
       "      <td>1</td>\n",
       "      <td>1</td>\n",
       "      <td>2</td>\n",
       "      <td>1</td>\n",
       "      <td>0</td>\n",
       "    </tr>\n",
       "  </tbody>\n",
       "</table>\n",
       "</div>"
      ],
      "text/plain": [
       "   GENDER  AGE  SMOKING  ANXIETY  PEER_PRESSURE  CHRONIC DISEASE  FATIGUE   \\\n",
       "0       1   69        1        2              1                1         2   \n",
       "1       1   74        2        1              1                2         2   \n",
       "2       0   59        1        1              2                1         2   \n",
       "3       1   63        2        2              1                1         1   \n",
       "4       0   63        1        1              1                1         1   \n",
       "\n",
       "   ALLERGY   WHEEZING  ALCOHOL CONSUMING  LUNG_CANCER  \n",
       "0         1         2                  2            1  \n",
       "1         2         1                  1            1  \n",
       "2         1         2                  1            0  \n",
       "3         1         1                  2            0  \n",
       "4         1         2                  1            0  "
      ]
     },
     "execution_count": 10,
     "metadata": {},
     "output_type": "execute_result"
    }
   ],
   "source": [
    "# Encoding the gender and diagnosis result data\n",
    "# LUNG_CANCER = YES = 1, LUNG_CANCER = NO = 0\n",
    "# Gender = MALE = 1, Gender = FEMALE = 0\n",
    "\n",
    "from sklearn.preprocessing import LabelEncoder\n",
    "\n",
    "# creating instance of labelencoder\n",
    "labelencoder = LabelEncoder()\n",
    "\n",
    "#Assigning numerical values and storing in another column\n",
    "df['LUNG_CANCER'] = labelencoder.fit_transform(df['LUNG_CANCER'])\n",
    "df['GENDER'] = labelencoder.fit_transform(df['GENDER'])\n",
    "\n",
    "df.head()"
   ]
  },
  {
   "cell_type": "markdown",
   "metadata": {},
   "source": [
    "<b>Visualize the colleration map: </b> Building colleration matrix to visualize the relationship between variables present inside dataset. It helps summarizing the correlations between all variables inside dataset."
   ]
  },
  {
   "cell_type": "code",
   "execution_count": 11,
   "metadata": {},
   "outputs": [
    {
     "data": {
      "text/plain": [
       "<AxesSubplot:>"
      ]
     },
     "execution_count": 11,
     "metadata": {},
     "output_type": "execute_result"
    },
    {
     "data": {
      "image/png": "[encoded data removed]",
      "text/plain": [
       "<Figure size 1440x1440 with 2 Axes>"
      ]
     },
     "metadata": {
      "needs_background": "light"
     },
     "output_type": "display_data"
    }
   ],
   "source": [
    "# Visualize colleration map\n",
    "correlation_matrix = df.corr()\n",
    "plt.figure(figsize=(20,20))\n",
    "sns.heatmap(correlation_matrix, cbar=True, fmt='.1f', annot=True, cmap='PiYG')"
   ]
  },
  {
   "cell_type": "code",
   "execution_count": 12,
   "metadata": {},
   "outputs": [
    {
     "data": {
      "text/plain": [
       "<AxesSubplot:title={'center':'Correlation between feature variable and target variable '}>"
      ]
     },
     "execution_count": 12,
     "metadata": {},
     "output_type": "execute_result"
    },
    {
     "data": {
      "image/png": "[encoded data removed]",
      "text/plain": [
       "<Figure size 864x720 with 1 Axes>"
      ]
     },
     "metadata": {
      "needs_background": "light"
     },
     "output_type": "display_data"
    }
   ],
   "source": [
    "df.drop('LUNG_CANCER', axis=1).corrwith(df.LUNG_CANCER).plot(kind='bar', grid=True, figsize=(12, 10), title=\"Correlation between feature variable and target variable \",color=\"#A6606C\")"
   ]
  },
  {
   "cell_type": "markdown",
   "metadata": {},
   "source": [
    "# Methods\n",
    "\n",
    "## Method 1: K Nearest Neighbour\n",
    "\n",
    "### Step 2: Prepare Model\n",
    "\n",
    "Emperical studies show that the best results are obtained if we use 20-30% of the data for testing and remain 70-80% of data for training. The main reason we choose 30:70 is because it helps us achieve the best result for the model after trials-and-errors. Another reason to use single split is it is easier to implement, with a small time complexity comparing to k fold cross validation. "
   ]
  },
  {
   "cell_type": "code",
   "execution_count": 13,
   "metadata": {},
   "outputs": [],
   "source": [
    "# Split data into features and labels\n",
    "Features = df.drop(columns=['LUNG_CANCER'],axis=1)\n",
    "Label = df['LUNG_CANCER']"
   ]
  },
  {
   "cell_type": "code",
   "execution_count": 14,
   "metadata": {},
   "outputs": [],
   "source": [
    "# Scaling the data\n",
    "from sklearn.preprocessing import StandardScaler\n",
    "\n",
    "scaler = StandardScaler()\n",
    "scaler.fit(Features)\n",
    "scaled = scaler.transform(Features)\n",
    "\n",
    "# Identify features and labels for the problem\n",
    "X = scaled\n",
    "y = Label"
   ]
  },
  {
   "cell_type": "markdown",
   "metadata": {},
   "source": [
    "In this specific test, we create three datasets which are: X_train and y_train, X_val and y_val, X_test and y_test.\n",
    "They will be used in model training, validation and testing for KNN method"
   ]
  },
  {
   "cell_type": "code",
   "execution_count": 56,
   "metadata": {},
   "outputs": [
    {
     "name": "stdout",
     "output_type": "stream",
     "text": [
      "Shape of X_train is  (69, 10)\n",
      "Shape of X_test  is  (93, 10)\n",
      "Shape of X_test  is  (24, 10)\n",
      "Shape of Y_train is  (69,)\n",
      "Shape of Y_test  is  (93,)\n",
      "Shape of X_test  is  (24,)\n"
     ]
    }
   ],
   "source": [
    "from sklearn.model_selection import train_test_split\n",
    "\n",
    "# Split data into training and the remaining datasets\n",
    "X_train, X_rem, y_train, y_rem = train_test_split(X, y, test_size=0.3)\n",
    "\n",
    "# Split data into remaining and validation sets\n",
    "X_train, X_val, y_train, y_val = train_test_split(X_rem, y_rem, test_size=0.25)\n",
    "\n",
    "print(\"Shape of X_train is \" ,X_train.shape)\n",
    "print(\"Shape of X_test  is \" ,X_test.shape)\n",
    "print(\"Shape of X_test  is \" ,X_val.shape)\n",
    "print(\"Shape of Y_train is \" ,y_train.shape)\n",
    "print(\"Shape of Y_test  is \" ,y_test.shape)\n",
    "print(\"Shape of X_test  is \" ,y_val.shape)"
   ]
  },
  {
   "cell_type": "markdown",
   "metadata": {},
   "source": [
    "### Step 3: Model Training with KNN\n",
    "\n",
    "##### Reasoning of choosing KNN as a model (Hypothesis Space)\n",
    "\n",
    "In this problem, we have:\n",
    "- Properly labeled data: We are predicting if a person has a high risk of lung cancer or not. The answer can only be Yes or No.\n",
    "- Data Noise Free: For this dataset, almost all of the features are represented in binary value (Yes/No, Female/Male). The most ranging data here is person age, but it is practically impossible to have too wide range (i.e from 0 to 1000)\n",
    "- Small dataset: The total data entries is 309.\n",
    "\n",
    "With all of the reason indicated above, KNN is a suitable model we can use in this particular problem.\n",
    "\n",
    "##### Model training \n",
    "\n",
    "1. Choose the best n neigbour value\n",
    "This step is known as parameter tuning. We perform this step to achieve for a better results."
   ]
  },
  {
   "cell_type": "code",
   "execution_count": 42,
   "metadata": {},
   "outputs": [
    {
     "name": "stdout",
     "output_type": "stream",
     "text": [
      "0.021505376344086023\n"
     ]
    },
    {
     "data": {
      "image/png": "[encoded data removed]",
      "text/plain": [
       "<Figure size 1440x720 with 1 Axes>"
      ]
     },
     "metadata": {
      "needs_background": "light"
     },
     "output_type": "display_data"
    }
   ],
   "source": [
    "from sklearn.neighbors import KNeighborsClassifier\n",
    "\n",
    "# Choose the best n neighbour value\n",
    "err_rate = [] \n",
    "\n",
    "# Loop through error rates from 1 to 50\n",
    "for i in range(1,30):\n",
    "    knn = KNeighborsClassifier(n_neighbors=i) # create a knn object with number of neighbours with value i\n",
    "    knn.fit(X_train,y_train) # fit the model\n",
    "    pred_i = knn.predict(X_test) # predict the value\n",
    "    err_rate.append(np.mean(pred_i != y_test)) #add the value to the array\n",
    "    \n",
    "print(min(err_rate))\n",
    "\n",
    "# Plotting the value of k error rate using the method we created above to make it easier to choose a k value\n",
    "plt.figure(figsize=(20,10)) # size of the figure\n",
    "plt.plot(range(1,30),err_rate,color='#A6606C',linestyle='dotted',marker='o',markerfacecolor='#F28094',markersize=8)#plotting the values\n",
    "plt.title = 'K Values VS Error Rates' #title\n",
    "plt.xlabel = 'K Value' #x label\n",
    "plt.ylabel= 'Error Rate' # y label\n",
    "plt.show()"
   ]
  },
  {
   "cell_type": "markdown",
   "metadata": {},
   "source": [
    "2. Training the model"
   ]
  },
  {
   "cell_type": "code",
   "execution_count": 50,
   "metadata": {},
   "outputs": [
    {
     "name": "stdout",
     "output_type": "stream",
     "text": [
      "Training Accuracy of KNN Model is 1.0\n",
      "Test Accuracy of KNN Model is 0.978494623655914\n"
     ]
    }
   ],
   "source": [
    "knn = KNeighborsClassifier(n_neighbors = 1)\n",
    "knn.fit(X_train, y_train)\n",
    "\n",
    "y_test_pred = knn.predict(X_test)\n",
    "\n",
    "# Calculate training accuracy and test accuracy for KNN Model\n",
    "knn_train_acc = accuracy_score(y_train, knn.predict(X_train))\n",
    "knn_test_acc = accuracy_score(y_test, y_test_pred)\n",
    "\n",
    "print(f\"Training Accuracy of KNN Model is {knn_train_acc}\")\n",
    "print(f\"Test Accuracy of KNN Model is {knn_test_acc}\")"
   ]
  },
  {
   "cell_type": "markdown",
   "metadata": {},
   "source": [
    "### Step 4: KNN Result Analysis\n",
    "In this section, we evaluate the result of KNN using confusion matrix and 0/1 loss function.\n",
    "\n",
    "In this dataset, we have each person (data point) fill the survey invidually and the result of one survey does not impact on the others. Thus, we can say that the data points are interpreted as independent and identically distributed variables (iid RVs). We choose 0/1 loss function to evaluate our model as it is designed to work with iid RVs and supervised classification problem."
   ]
  },
  {
   "cell_type": "code",
   "execution_count": 51,
   "metadata": {},
   "outputs": [
    {
     "name": "stdout",
     "output_type": "stream",
     "text": [
      "KNN Classifier\n",
      "\n",
      "              precision    recall  f1-score   support\n",
      "\n",
      "           0       0.85      1.00      0.92        11\n",
      "           1       1.00      0.98      0.99        82\n",
      "\n",
      "    accuracy                           0.98        93\n",
      "   macro avg       0.92      0.99      0.95        93\n",
      "weighted avg       0.98      0.98      0.98        93\n",
      "\n"
     ]
    }
   ],
   "source": [
    "from sklearn.metrics import accuracy_score, confusion_matrix, classification_report\n",
    "\n",
    "# Classification Report\n",
    "print('KNN Classifier' +'\\n')\n",
    "print(classification_report(y_test,y_test_pred))"
   ]
  },
  {
   "cell_type": "code",
   "execution_count": 52,
   "metadata": {},
   "outputs": [
    {
     "data": {
      "text/plain": [
       "[Text(0, 0.5, 'below zero'), Text(0, 1.5, 'above zero')]"
      ]
     },
     "execution_count": 52,
     "metadata": {},
     "output_type": "execute_result"
    },
    {
     "data": {
      "image/png": "[encoded data removed]",
      "text/plain": [
       "<Figure size 432x288 with 2 Axes>"
      ]
     },
     "metadata": {
      "needs_background": "light"
     },
     "output_type": "display_data"
    }
   ],
   "source": [
    "# Confusion matrix\n",
    "ax= plt.subplot()\n",
    "\n",
    "knn_mat = confusion_matrix(y_test,y_test_pred)\n",
    "sns.heatmap(knn_mat, annot=True,cmap='YlGnBu',fmt='g')\n",
    "\n",
    "ax.set_xlabel('Predicted labels',fontsize=15)\n",
    "ax.set_ylabel('True labels',fontsize=15)\n",
    "ax.set_title('Confusion Matrix for KNN',fontsize=15)\n",
    "ax.xaxis.set_ticklabels(['below zero', 'above zero'],fontsize=15)\n",
    "ax.yaxis.set_ticklabels(['below zero', 'above zero'],fontsize=15)"
   ]
  },
  {
   "cell_type": "code",
   "execution_count": 53,
   "metadata": {},
   "outputs": [
    {
     "name": "stdout",
     "output_type": "stream",
     "text": [
      "The precision of the KNN model is:  1.0\n"
     ]
    }
   ],
   "source": [
    "knn_precision = knn_mat[1,1]/(knn_mat[1,1]+knn_mat[0,1])\n",
    "print(\"The precision of the KNN model is: \", knn_precision)"
   ]
  },
  {
   "cell_type": "markdown",
   "metadata": {},
   "source": [
    "#### Calculate the loss function\n",
    "Zero-one loss is a common loss function used in classification method. It counts how many mistakes a hypothesis function has made and returns the error rate on data set. For every example that classifier missclassfies, a loss of 1 is suffered whereas correctly example lead to 0 loss"
   ]
  },
  {
   "cell_type": "code",
   "execution_count": 54,
   "metadata": {},
   "outputs": [
    {
     "name": "stdout",
     "output_type": "stream",
     "text": [
      "The 0/1 loss of this  0.021505376344086002\n"
     ]
    }
   ],
   "source": [
    "from sklearn.metrics import zero_one_loss\n",
    "\n",
    "# Calculate loss function\n",
    "loss = zero_one_loss(y_test, y_test_pred)\n",
    "print(\"The 0/1 loss of this \", loss)"
   ]
  },
  {
   "cell_type": "markdown",
   "metadata": {},
   "source": [
    "#### Calculate training and validation error"
   ]
  },
  {
   "cell_type": "code",
   "execution_count": 49,
   "metadata": {},
   "outputs": [
    {
     "name": "stdout",
     "output_type": "stream",
     "text": [
      "Training Accuracy of KNN Model is 0.07287449392712553\n",
      "Test Accuracy of KNN Model is 0.11827956989247312\n"
     ]
    }
   ],
   "source": [
    "# Calculate training accuracy and test accuracy for KNN Model\n",
    "knn_train_acc = 1 - accuracy_score(y_train, knn.predict(X_train))\n",
    "knn_test_acc = 1 - accuracy_score(y_test, y_test_pred)\n",
    "\n",
    "print(f\"Training Accuracy of KNN Model is {knn_train_acc}\")\n",
    "print(f\"Test Accuracy of KNN Model is {knn_test_acc}\")"
   ]
  },
  {
   "cell_type": "markdown",
   "metadata": {},
   "source": [
    "## Method 2: Logistic Regression\n",
    "\n",
    "### Step 5: Prepare Model Using K-Fold Cross Validation\n",
    "\n",
    "Cross-validation is a resampling procedure used to evaluate machine learning models on a limited data sample. To use a limited sample in order to estimate how the model is expected to perform in general when used to make predictions on data not used during the training of the model."
   ]
  },
  {
   "cell_type": "code",
   "execution_count": 25,
   "metadata": {},
   "outputs": [],
   "source": [
    "from sklearn.model_selection import KFold, StratifiedKFold, cross_val_score\n",
    "\n",
    "# Split data into 5 folds\n",
    "kf =KFold(n_splits=12, shuffle=True, random_state=42)\n",
    "\n",
    "#for i, (train_index, test_index) in enumerate(kf.split(X, y)):\n",
    "#    X_train, X_test, y_train, y_test = X[train_index], X[test_index], y[train_index], y[test_index]\n",
    "#    print(f'Fold {i}, Train set: {len(train_index)}, Test set:{len(test_index)}')\n",
    "    "
   ]
  },
  {
   "cell_type": "markdown",
   "metadata": {},
   "source": [
    "### Step 6: Model Training with Logistic Regression\n",
    "Logistic Regression is a classification algorithm which is used to predict the category of independent variable using sigmoid function. Its output is 0 or 1.\n",
    "\n",
    "1. Training model with Logistic Regression"
   ]
  },
  {
   "cell_type": "code",
   "execution_count": 26,
   "metadata": {},
   "outputs": [
    {
     "name": "stdout",
     "output_type": "stream",
     "text": [
      "Fold 0, Train set: 283, Test set:26\n",
      "Fold 1, Train set: 283, Test set:26\n",
      "Fold 2, Train set: 283, Test set:26\n",
      "Fold 3, Train set: 283, Test set:26\n",
      "Fold 4, Train set: 283, Test set:26\n",
      "Fold 5, Train set: 283, Test set:26\n",
      "Fold 6, Train set: 283, Test set:26\n",
      "Fold 7, Train set: 283, Test set:26\n",
      "Fold 8, Train set: 283, Test set:26\n",
      "Fold 9, Train set: 284, Test set:25\n",
      "Fold 10, Train set: 284, Test set:25\n",
      "Fold 11, Train set: 284, Test set:25\n"
     ]
    }
   ],
   "source": [
    "from sklearn.linear_model import LogisticRegression\n",
    "\n",
    "\n",
    "for i, (train_index, test_index) in enumerate(kf.split(X, y)):\n",
    "    X_train, X_test, y_train, y_test = X[train_index], X[test_index], y[train_index], y[test_index]\n",
    "    print(f'Fold {i}, Train set: {len(train_index)}, Test set:{len(test_index)}')\n",
    "    \n",
    "    # Define the model\n",
    "    model_lg = LogisticRegression()\n",
    "\n",
    "    # Train the model\n",
    "    model_lg.fit(X_train, y_train)\n",
    "\n",
    "    # Predict target values\n",
    "    y_test_pred = model_lg.predict(X_test)\n",
    "    y_train_pred = model_lg.predict(X_train)"
   ]
  },
  {
   "cell_type": "markdown",
   "metadata": {},
   "source": [
    "### Step 7: Logistic Regression Analysis"
   ]
  },
  {
   "cell_type": "code",
   "execution_count": 27,
   "metadata": {},
   "outputs": [
    {
     "name": "stdout",
     "output_type": "stream",
     "text": [
      "The precision of the logistic regression model is:  1.0\n"
     ]
    },
    {
     "data": {
      "image/png": "[encoded data removed]",
      "text/plain": [
       "<Figure size 432x288 with 2 Axes>"
      ]
     },
     "metadata": {
      "needs_background": "light"
     },
     "output_type": "display_data"
    }
   ],
   "source": [
    "# Confusion matrix\n",
    "ax= plt.subplot()\n",
    "\n",
    "lg_mat = confusion_matrix(y_test,y_test_pred)\n",
    "sns.heatmap(lg_mat, annot=True,cmap='YlGnBu',fmt='g')\n",
    "\n",
    "ax.set_xlabel('Predicted labels',fontsize=15)\n",
    "ax.set_ylabel('True labels',fontsize=15)\n",
    "ax.set_title('Confusion Matrix for Logistic Regression',fontsize=15)\n",
    "ax.xaxis.set_ticklabels(['below zero', 'above zero'],fontsize=15)\n",
    "ax.yaxis.set_ticklabels(['below zero', 'above zero'],fontsize=15)\n",
    "\n",
    "lg_precision = lg_mat[1,1]/(lg_mat[1,1]+lg_mat[0,1])\n",
    "print(\"The precision of the logistic regression model is: \", lg_precision)"
   ]
  },
  {
   "cell_type": "code",
   "execution_count": 29,
   "metadata": {},
   "outputs": [
    {
     "name": "stdout",
     "output_type": "stream",
     "text": [
      "              precision    recall  f1-score   support\n",
      "\n",
      "           0       1.00      1.00      1.00         1\n",
      "           1       1.00      1.00      1.00        24\n",
      "\n",
      "    accuracy                           1.00        25\n",
      "   macro avg       1.00      1.00      1.00        25\n",
      "weighted avg       1.00      1.00      1.00        25\n",
      "\n"
     ]
    }
   ],
   "source": [
    "# Visualize classification report\n",
    "print(classification_report(y_test, y_test_pred))"
   ]
  },
  {
   "cell_type": "code",
   "execution_count": 30,
   "metadata": {},
   "outputs": [
    {
     "name": "stdout",
     "output_type": "stream",
     "text": [
      "The accuracy score of the logistic regression model is:  1.0\n"
     ]
    }
   ],
   "source": [
    "lg_score = model_lg.score(X_test, y_test)\n",
    "print(\"The accuracy score of the logistic regression model is: \", lg_score)"
   ]
  },
  {
   "cell_type": "markdown",
   "metadata": {},
   "source": [
    "#### Calculate the loss function\n",
    "The logistic loss is chosen as it allowed the use of a ready-made library for logistic regression. Cross-entropy loss increases as the predicted probability diverges from the actual label. A perfect model would have a log loss of 0"
   ]
  },
  {
   "cell_type": "code",
   "execution_count": 32,
   "metadata": {},
   "outputs": [
    {
     "name": "stdout",
     "output_type": "stream",
     "text": [
      "The logistic loss is:  9.992007221626415e-16\n"
     ]
    }
   ],
   "source": [
    "from sklearn.metrics import log_loss\n",
    "\n",
    "# Calculate loss function based on truth label and predict label\n",
    "train_error = log_loss(y_test, y_test_pred)\n",
    "print(\"The logistic loss is: \", train_error)"
   ]
  },
  {
   "cell_type": "markdown",
   "metadata": {},
   "source": [
    "#### Calculate training and validation error"
   ]
  },
  {
   "cell_type": "code",
   "execution_count": 33,
   "metadata": {},
   "outputs": [
    {
     "name": "stdout",
     "output_type": "stream",
     "text": [
      "Training Accuracy of Logistic Regression Model is 0.09859154929577463\n",
      "Test Accuracy of Logistic Regression Model is 0.0\n"
     ]
    }
   ],
   "source": [
    "# Calculate training accuracy and test accuracy for KNN Model\n",
    "lg_train_acc = 1 - accuracy_score(y_train, y_train_pred)\n",
    "lg_test_acc = 1 - accuracy_score(y_test, y_test_pred) \n",
    "\n",
    "print(f\"Training Accuracy of Logistic Regression Model is {lg_train_acc}\")\n",
    "print(f\"Test Accuracy of Logistic Regression Model is {lg_test_acc}\")"
   ]
  },
  {
   "cell_type": "markdown",
   "metadata": {},
   "source": [
    "## Results Analysis\n",
    "\n",
    "In this project, we use two different methods which are Logistic Regression and K Nearest Neigbour to explore the detection "
   ]
  },
  {
   "cell_type": "code",
   "execution_count": null,
   "metadata": {},
   "outputs": [],
   "source": []
  }
 ],
 "metadata": {
  "kernelspec": {
   "display_name": "Python 3",
   "language": "python",
   "name": "python3"
  },
  "language_info": {
   "codemirror_mode": {
    "name": "ipython",
    "version": 3
   },
   "file_extension": ".py",
   "mimetype": "text/x-python",
   "name": "python",
   "nbconvert_exporter": "python",
   "pygments_lexer": "ipython3",
   "version": "3.8.6"
  },
  "varInspector": {
   "cols": {
    "lenName": 16,
    "lenType": 16,
    "lenVar": 40
   },
   "kernels_config": {
    "python": {
     "delete_cmd_postfix": "",
     "delete_cmd_prefix": "del ",
     "library": "var_list.py",
     "varRefreshCmd": "print(var_dic_list())"
    },
    "r": {
     "delete_cmd_postfix": ") ",
     "delete_cmd_prefix": "rm(",
     "library": "var_list.r",
     "varRefreshCmd": "cat(var_dic_list()) "
    }
   },
   "types_to_exclude": [
    "module",
    "function",
    "builtin_function_or_method",
    "instance",
    "_Feature"
   ],
   "window_display": false
  }
 },
 "nbformat": 4,
 "nbformat_minor": 4
}
